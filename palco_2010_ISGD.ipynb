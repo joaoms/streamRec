{
 "cells": [
  {
   "cell_type": "code",
   "execution_count": 1,
   "metadata": {},
   "outputs": [],
   "source": [
    "from data import ImplicitData\n",
    "import pandas as pd\n",
    "import numpy as np\n",
    "from recommenders_implicit import BISGD,ISGD\n",
    "from eval_implicit import EvalPrequential\n",
    "from datetime import datetime"
   ]
  },
  {
   "cell_type": "code",
   "execution_count": 2,
   "metadata": {},
   "outputs": [],
   "source": [
    "data = pd.read_csv(\"datasets/palco_2010.tsv\",\"\\t\")\n",
    "stream = ImplicitData(data['user_id'],data['track_id'])"
   ]
  },
  {
   "cell_type": "code",
   "execution_count": 3,
   "metadata": {},
   "outputs": [],
   "source": [
    "num_factors = 200\n",
    "num_iter = 6\n",
    "learn_rate = 0.35\n",
    "regularization = 0.5\n",
    "num_nodes = 8"
   ]
  },
  {
   "cell_type": "code",
   "execution_count": 4,
   "metadata": {},
   "outputs": [],
   "source": [
    "model = ISGD(ImplicitData([],[]), num_factors, num_iter, learn_rate = learn_rate, u_regularization = regularization, i_regularization = regularization, random_seed = 11)\n",
    "#model = BISGD(ImplicitData([],[]),90, 8, num_nodes, learn_rate = 0.3, u_regularization = 0.4, i_regularization = 0.4, use_numba = False)"
   ]
  },
  {
   "cell_type": "code",
   "execution_count": 5,
   "metadata": {},
   "outputs": [],
   "source": [
    "eval = EvalPrequential(model,stream, metrics = [\"Recall@20\"])"
   ]
  },
  {
   "cell_type": "code",
   "execution_count": 6,
   "metadata": {},
   "outputs": [
    {
     "name": "stdout",
     "output_type": "stream",
     "text": [
      "start time 2021-02-09 15:59:02.676015\n",
      ".npmean(resuls[Recall@20]) 0.3220858895705521\n"
     ]
    }
   ],
   "source": [
    "start_recommend = datetime.now()\n",
    "print('start time', start_recommend)\n",
    "\n",
    "results=eval.EvaluateTime(0,stream.size, 1000)\n",
    "\n",
    "print('npmean(resuls[Recall@20])', np.mean(results['Recall@20']))\n"
   ]
  },
  {
   "cell_type": "code",
   "execution_count": 7,
   "metadata": {},
   "outputs": [
    {
     "name": "stdout",
     "output_type": "stream",
     "text": [
      "end time 2021-02-09 16:27:22.474454\n",
      "run time 0:28:19.798439\n",
      "\n",
      "get tuple 0.000144511917819527\n",
      "recommend 0.07335254604831064\n",
      "eval_point 0.0001341550628100436\n",
      "update 0.002695544990228299\n"
     ]
    }
   ],
   "source": [
    "end_recommend = datetime.now()\n",
    "print('end time', end_recommend)\n",
    "\n",
    "tempo = end_recommend - start_recommend\n",
    "\n",
    "print('run time', tempo)\n",
    "print('')\n",
    "print('get tuple',np.mean(results['time_get_tuple']))\n",
    "print('recommend',np.mean(results['time_recommend']))\n",
    "print('eval_point',np.mean(results['time_eval_point']))\n",
    "print('update',np.mean(results['time_update']))"
   ]
  },
  {
   "cell_type": "code",
   "execution_count": 8,
   "metadata": {},
   "outputs": [
    {
     "data": {
      "text/plain": [
       "0.3220858895705521"
      ]
     },
     "execution_count": 8,
     "metadata": {},
     "output_type": "execute_result"
    }
   ],
   "source": [
    "sum(results['Recall@20'])/len(results['Recall@20'])"
   ]
  }
 ],
 "metadata": {
  "kernelspec": {
   "display_name": "Python Base Conda",
   "language": "python",
   "name": "python-base-conda"
  },
  "language_info": {
   "codemirror_mode": {
    "name": "ipython",
    "version": 3
   },
   "file_extension": ".py",
   "mimetype": "text/x-python",
   "name": "python",
   "nbconvert_exporter": "python",
   "pygments_lexer": "ipython3",
   "version": "3.7.6"
  }
 },
 "nbformat": 4,
 "nbformat_minor": 4
}
