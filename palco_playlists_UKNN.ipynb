{
 "cells": [
  {
   "cell_type": "code",
   "execution_count": 1,
   "metadata": {},
   "outputs": [],
   "source": [
    "from data import ImplicitData\n",
    "from pprint import pprint\n",
    "import pandas as pd\n",
    "from operator import itemgetter\n",
    "import numpy as np\n",
    "from recommenders_implicit import UserKNN\n",
    "from eval_implicit import EvalPrequential\n",
    "from datetime import datetime"
   ]
  },
  {
   "cell_type": "code",
   "execution_count": 2,
   "metadata": {},
   "outputs": [],
   "source": [
    "data = pd.read_csv(\"datasets/playlisted_tracks.tsv\",\"\\t\")\n",
    "stream = ImplicitData(data['playlist_id'],data['track_id'])"
   ]
  },
  {
   "cell_type": "code",
   "execution_count": 3,
   "metadata": {},
   "outputs": [
    {
     "data": {
      "text/plain": [
       "array([     1,      2,      3, ..., 126532, 126622, 126623])"
      ]
     },
     "execution_count": 3,
     "metadata": {},
     "output_type": "execute_result"
    }
   ],
   "source": [
    "k = 6\n",
    "data\n",
    "stream.itemset"
   ]
  },
  {
   "cell_type": "code",
   "execution_count": 4,
   "metadata": {},
   "outputs": [],
   "source": [
    "model = UserKNN(ImplicitData([],[]), k)\n",
    "    "
   ]
  },
  {
   "cell_type": "code",
   "execution_count": 5,
   "metadata": {},
   "outputs": [
    {
     "data": {
      "text/plain": [
       "111942"
      ]
     },
     "execution_count": 5,
     "metadata": {},
     "output_type": "execute_result"
    }
   ],
   "source": [
    "eval = EvalPrequential(model,stream, metrics = [\"Recall@20\"])\n",
    "stream.size"
   ]
  },
  {
   "cell_type": "code",
   "execution_count": 6,
   "metadata": {},
   "outputs": [
    {
     "data": {
      "text/plain": [
       "[]"
      ]
     },
     "execution_count": 6,
     "metadata": {},
     "output_type": "execute_result"
    }
   ],
   "source": [
    "model.Recommend(8426, 10)"
   ]
  },
  {
   "cell_type": "code",
   "execution_count": 7,
   "metadata": {},
   "outputs": [
    {
     "name": "stdout",
     "output_type": "stream",
     "text": [
      "start time 2021-12-23 19:07:02.164438\n",
      "[0, 0, 0, 0, 0, 0, 0, 0, 0, 0, 0, 0, 0, 0, 0, 0, 0, 0, 0, 0, 0, 0, 0, 0, 0, 0, 0, 0, 0, 0, 0, 0, 0, 0, 0, 0, 0, 0, 0, 0, 0, 0, 1, 1, 0, 1, 0, 0, 0, 0, 0, 0, 0, 0, 0, 0, 0, 0, 0, 0, 0, 0, 0, 0, 0, 0, 0, 1, 0, 0, 0, 0, 0, 0, 0, 0, 0, 1, 0, 1, 0, 1, 0, 1, 0, 0, 0, 0, 0, 0, 0, 0, 0, 0, 0, 0, 0, 0, 0, 0, 0, 0, 0, 0, 0, 0, 0, 0, 0, 0, 0, 0, 0, 0, 0, 0, 0, 0, 0, 0, 0, 0, 0, 0, 0, 0, 0, 0, 0, 0, 0, 1, 0, 0, 0, 0, 1, 0, 0, 0, 0, 0, 0, 0, 0, 0, 1, 0, 0, 0, 1, 0, 0, 0, 0, 0, 1, 0, 0, 0, 0, 0, 0, 0, 0, 0, 0, 0, 0, 0, 0, 0, 0, 0, 0, 0, 0, 0, 0, 0]\n",
      "npmean(resuls[Recall@20]) 0.07222222222222222\n"
     ]
    }
   ],
   "source": [
    "start_recommend = datetime.now()\n",
    "print('start time', start_recommend)\n",
    "\n",
    "results=eval.EvaluateTime(0,stream.size,1000)\n",
    "#results=eval.EvaluateTime(0,20000,100)\n",
    "print(results['Recall@20'])\n",
    "print('npmean(resuls[Recall@20])', np.mean(results['Recall@20']))\n"
   ]
  },
  {
   "cell_type": "code",
   "execution_count": 8,
   "metadata": {},
   "outputs": [
    {
     "name": "stdout",
     "output_type": "stream",
     "text": [
      "end time 2021-12-23 19:12:28.513634\n",
      "run time 0:05:26.349196\n",
      "\n",
      "get tuple 6.975263357162476e-05\n",
      "recommend 0.7030727121565077\n",
      "eval_point 1.7246935102674696e-05\n",
      "update 0.009914995944499969\n"
     ]
    }
   ],
   "source": [
    "end_recommend = datetime.now()\n",
    "print('end time', end_recommend)\n",
    "\n",
    "tempo = end_recommend - start_recommend\n",
    "\n",
    "print('run time', tempo)\n",
    "print('')\n",
    "print('get tuple',np.mean(results['time_get_tuple']))\n",
    "print('recommend',np.mean(results['time_recommend']))\n",
    "print('eval_point',np.mean(results['time_eval_point']))\n",
    "print('update',np.mean(results['time_update']))"
   ]
  },
  {
   "cell_type": "code",
   "execution_count": null,
   "metadata": {},
   "outputs": [],
   "source": []
  }
 ],
 "metadata": {
  "interpreter": {
   "hash": "31f2aee4e71d21fbe5cf8b01ff0e069b9275f58929596ceb00d14d90e3e16cd6"
  },
  "kernelspec": {
   "display_name": "Python Base Conda",
   "language": "python",
   "name": "python3"
  },
  "language_info": {
   "codemirror_mode": {
    "name": "ipython",
    "version": 3
   },
   "file_extension": ".py",
   "mimetype": "text/x-python",
   "name": "python",
   "nbconvert_exporter": "python",
   "pygments_lexer": "ipython3",
   "version": "3.7.7"
  }
 },
 "nbformat": 4,
 "nbformat_minor": 4
}
