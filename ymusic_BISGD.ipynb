{
 "cells": [
  {
   "cell_type": "code",
   "execution_count": 1,
   "metadata": {},
   "outputs": [],
   "source": [
    "from data import ImplicitData\n",
    "import pandas as pd\n",
    "import numpy as np\n",
    "from recommenders_implicit import BISGD,ISGD\n",
    "from eval_implicit import EvalPrequential\n",
    "from datetime import datetime"
   ]
  },
  {
   "cell_type": "code",
   "execution_count": 2,
   "metadata": {},
   "outputs": [],
   "source": [
    "data = pd.read_csv(\"datasets/ymusic_gte90_6kusers.tsv\",\"\\t\")\n",
    "stream = ImplicitData(data['user_id'],data['item_id'])"
   ]
  },
  {
   "cell_type": "code",
   "execution_count": 3,
   "metadata": {},
   "outputs": [],
   "source": [
    "num_factors = 200\n",
    "num_iter = 9\n",
    "learn_rate = 0.25\n",
    "regularization = 0.45\n",
    "num_nodes = 8"
   ]
  },
  {
   "cell_type": "code",
   "execution_count": 4,
   "metadata": {},
   "outputs": [],
   "source": [
    "model = BISGD(ImplicitData([],[]), num_factors, num_iter, num_nodes, learn_rate = learn_rate, u_regularization = regularization, i_regularization = regularization, random_seed = 10)\n",
    "#model = BISGD(ImplicitData([],[]),90, 8, num_nodes, learn_rate = 0.3, u_regularization = 0.4, i_regularization = 0.4, use_numba = False)"
   ]
  },
  {
   "cell_type": "code",
   "execution_count": 5,
   "metadata": {},
   "outputs": [],
   "source": [
    "eval = EvalPrequential(model,stream, metrics = [\"Recall@20\"])"
   ]
  },
  {
   "cell_type": "code",
   "execution_count": 6,
   "metadata": {},
   "outputs": [
    {
     "name": "stdout",
     "output_type": "stream",
     "text": [
      "start time 2021-02-16 21:48:01.027763\n",
      ".npmean(resuls[Recall@20]) 0.11071503459844831\n"
     ]
    }
   ],
   "source": [
    "start_recommend = datetime.now()\n",
    "print('start time', start_recommend)\n",
    "\n",
    "results=eval.EvaluateTime(0,stream.size, 100)\n",
    "\n",
    "print('npmean(resuls[Recall@20])', np.mean(results['Recall@20']))\n"
   ]
  },
  {
   "cell_type": "code",
   "execution_count": 7,
   "metadata": {},
   "outputs": [
    {
     "name": "stdout",
     "output_type": "stream",
     "text": [
      "end time 2021-02-17 04:25:14.580840\n",
      "run time 6:37:13.553077\n",
      "\n",
      "get tuple 0.0002580663041111819\n",
      "recommend 4.336787890428066\n",
      "eval_point 0.00011839509685225996\n",
      "update 0.00633243365373032\n"
     ]
    }
   ],
   "source": [
    "end_recommend = datetime.now()\n",
    "print('end time', end_recommend)\n",
    "\n",
    "tempo = end_recommend - start_recommend\n",
    "\n",
    "print('run time', tempo)\n",
    "print('')\n",
    "print('get tuple',np.mean(results['time_get_tuple']))\n",
    "print('recommend',np.mean(results['time_recommend']))\n",
    "print('eval_point',np.mean(results['time_eval_point']))\n",
    "print('update',np.mean(results['time_update']))"
   ]
  },
  {
   "cell_type": "code",
   "execution_count": 8,
   "metadata": {},
   "outputs": [
    {
     "data": {
      "text/plain": [
       "0.11071503459844831"
      ]
     },
     "execution_count": 8,
     "metadata": {},
     "output_type": "execute_result"
    }
   ],
   "source": [
    "sum(results['Recall@20'])/len(results['Recall@20'])"
   ]
  },
  {
   "cell_type": "code",
   "execution_count": null,
   "metadata": {},
   "outputs": [],
   "source": []
  }
 ],
 "metadata": {
  "kernelspec": {
   "display_name": "Python Base Conda",
   "language": "python",
   "name": "python-base-conda"
  },
  "language_info": {
   "codemirror_mode": {
    "name": "ipython",
    "version": 3
   },
   "file_extension": ".py",
   "mimetype": "text/x-python",
   "name": "python",
   "nbconvert_exporter": "python",
   "pygments_lexer": "ipython3",
   "version": "3.7.6"
  }
 },
 "nbformat": 4,
 "nbformat_minor": 4
}
